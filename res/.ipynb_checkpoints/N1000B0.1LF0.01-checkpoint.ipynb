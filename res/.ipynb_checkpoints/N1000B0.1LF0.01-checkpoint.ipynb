{
 "cells": [
  {
   "cell_type": "code",
   "execution_count": null,
   "metadata": {
    "collapsed": true
   },
   "outputs": [],
   "source": [
    "# Import packages to use\n",
    "import numpy as np\n",
    "import pandas as pd\n",
    "import matplotlib as mpl\n",
    "import matplotlib.pyplot as plt\n",
    "import statsmodels.api as sm\n",
    "import os\n",
    "mpl.rcParams['mathtext.fontset'] = 'cm'\n",
    "mpl.rcParams.update({'errorbar.capsize': 2})"
   ]
  },
  {
   "cell_type": "code",
   "execution_count": null,
   "metadata": {},
   "outputs": [],
   "source": [
    "# Define the file to explore\n",
    "file='resumen_N1000_Niter2000000_beta0.1_dt0.0001_lf0.01_stf50_Nsimstot768.csv'\n",
    "\n",
    "# Define the parameters for the simulation\n",
    "N=1000\n",
    "beta=0.1\n",
    "s=0.01\n",
    "nu=-1/(beta+1)\n",
    "\n",
    "# Import the data file\n",
    "df=pd.read_csv(file, engine='python')\n",
    "print(df.columns.tolist())\n",
    "print('Theoretical exponent (nu)= %g'%nu)"
   ]
  },
  {
   "cell_type": "code",
   "execution_count": null,
   "metadata": {},
   "outputs": [],
   "source": [
    "# Plot the entire log-data \n",
    "plt.figure(figsize=(12,6))\n",
    "\n",
    "plt.plot(df.log_t,df.log_N, label='Simulated Data')\n",
    "\n",
    "plt.xlabel(r'$\\log \\ t$',fontsize=24)\n",
    "plt.ylabel(r'$\\log \\ \\langle N \\rangle $',fontsize=24)\n",
    "\n",
    "plt.title(r'$N=%i \\quad \\beta=%.2f \\quad \\ell_f=%g$'%(N,beta,s),fontsize=30)\n",
    "plt.grid(zorder=3)\n",
    "plt.legend(fontsize=20)\n",
    "plt.show()\n",
    "plt.close()"
   ]
  },
  {
   "cell_type": "code",
   "execution_count": null,
   "metadata": {
    "collapsed": true
   },
   "outputs": [],
   "source": [
    "# Cut the data in order to analyze the last part\n",
    "# The cut-value can be changed and will change the results\n",
    "cut=0\n",
    "cut2=4\n",
    "df_tail=df[(df['log_t']>cut) & (df['log_t']<4)]"
   ]
  },
  {
   "cell_type": "markdown",
   "metadata": {},
   "source": [
    "# LINEAR REGRESSION FOR MEAN VALUE"
   ]
  },
  {
   "cell_type": "code",
   "execution_count": null,
   "metadata": {},
   "outputs": [],
   "source": [
    "# Perform the linear regression for the asymptotic behaviour of the mean values\n",
    "X=df_tail['log_t']\n",
    "y=df_tail['log_N']\n",
    "\n",
    "X = sm.add_constant(X)\n",
    "model=sm.OLS(y,X)\n",
    "results=model.fit()\n",
    "\n",
    "print(results.summary())"
   ]
  },
  {
   "cell_type": "markdown",
   "metadata": {},
   "source": [
    "# LINEAR REGRESSION FOR UPPER BOUND"
   ]
  },
  {
   "cell_type": "code",
   "execution_count": null,
   "metadata": {},
   "outputs": [],
   "source": [
    "# Perform the linear regression for the upper bound of the data\n",
    "X=df_tail['log_t']\n",
    "y=df_tail['log_N']+np.log(df_tail['std_N'])\n",
    "\n",
    "X = sm.add_constant(X)\n",
    "model=sm.OLS(y,X)\n",
    "results=model.fit()\n",
    "\n",
    "print(results.summary())"
   ]
  },
  {
   "cell_type": "markdown",
   "metadata": {},
   "source": [
    "# LINEAR REGRESSION FOR LOWER BOUND"
   ]
  },
  {
   "cell_type": "code",
   "execution_count": null,
   "metadata": {},
   "outputs": [],
   "source": [
    "# Perform the linear regression for the lower bound of the data\n",
    "X=df_tail['log_t']\n",
    "y=df_tail['log_N']-np.log(df_tail['std_N'])\n",
    "\n",
    "X = sm.add_constant(X)\n",
    "model=sm.OLS(y,X)\n",
    "results=model.fit()\n",
    "\n",
    "print(results.summary())"
   ]
  },
  {
   "cell_type": "code",
   "execution_count": null,
   "metadata": {},
   "outputs": [],
   "source": [
    "# Plot the partial data with the theoretical behaviour \n",
    "plt.figure(figsize=(12,6))\n",
    "\n",
    "# Define the data for the theoretical behaviour comparison\n",
    "xreg=np.linspace(min(df_tail.log_t),max(df_tail.log_t))\n",
    "yreg=-(1.0/(beta+1.0))*xreg+2.0\n",
    "\n",
    "plt.plot(df_tail.log_t,df_tail.log_N,label='Simulated Data')\n",
    "\n",
    "ecu=r'$\\log \\ n \\sim  \\left( \\frac{-1}{\\beta+1} \\right) \\ \\log \\ t$'\n",
    "plt.plot(xreg,yreg,'--',c='red',label=ecu)\n",
    "\n",
    "upper=df_tail['log_N']+np.log(df_tail['std_N'])\n",
    "lower=df_tail['log_N']-np.log(df_tail['std_N'])\n",
    "plt.fill_between(df_tail.log_t,upper,lower,alpha=0.6)\n",
    "\n",
    "\n",
    "plt.title(r'$N=%i \\quad \\beta=%.2f \\quad \\ell_f=%g$'%(N,beta,s),fontsize=30)\n",
    "plt.xlabel(r'$\\log \\ t$',fontsize=24)\n",
    "plt.ylabel(r'$\\log \\ \\langle N \\rangle $',fontsize=24)\n",
    "\n",
    "plt.grid(zorder=3)\n",
    "plt.legend(fontsize=20)\n",
    "plt.show()\n",
    "plt.close()"
   ]
  },
  {
   "cell_type": "code",
   "execution_count": null,
   "metadata": {},
   "outputs": [],
   "source": [
    "plt.figure(figsize=(12,6))\n",
    "\n",
    "xreg=np.linspace(min(df_tail.log_t),max(df_tail.log_t))\n",
    "yreg=-(1.0/(beta+1.0))*xreg+3.5\n",
    "\n",
    "plt.plot(df.log_t,df.log_N,label='Simulated Data')\n",
    "\n",
    "ecu=r'$\\log \\ n \\sim  \\left( \\frac{-1}{\\beta+1} \\right) \\ \\log \\ t$'\n",
    "plt.plot(xreg,yreg,'--',c='red',label=ecu)\n",
    "\n",
    "plt.xlim(-4)\n",
    "\n",
    "plt.title(r'$N=%i \\quad \\beta=%.2f \\quad \\ell_f=%g$'%(N,beta,s),fontsize=30)\n",
    "plt.xlabel(r'$\\log \\ t$',fontsize=24)\n",
    "plt.ylabel(r'$\\log \\ \\langle N \\rangle $',fontsize=24)\n",
    "\n",
    "plt.grid(zorder=3)\n",
    "plt.legend(fontsize=20)\n",
    "plt.show()\n",
    "plt.close()"
   ]
  },
  {
   "cell_type": "code",
   "execution_count": null,
   "metadata": {},
   "outputs": [],
   "source": [
    "plt.figure(figsize=(12,6))\n",
    "\n",
    "plt.plot(df.log_t,df.log_N,label='Simulated Data')\n",
    "\n",
    "upper=df['log_N']+np.log(df['std_N'])\n",
    "lower=df['log_N']-np.log(df['std_N'])\n",
    "plt.fill_between(df.log_t,upper,lower,alpha=0.6)\n",
    "\n",
    "plt.title(r'$N=%i \\quad \\beta=%.2f \\quad \\theta_f=%g$'%(N,beta,s),fontsize=30)\n",
    "plt.xlabel(r'$\\log \\ t$',fontsize=24)\n",
    "plt.ylabel(r'$\\log \\ \\langle N \\rangle $',fontsize=24)\n",
    "\n",
    "plt.grid(zorder=3)\n",
    "plt.legend(fontsize=20)\n",
    "plt.show()\n",
    "plt.close()"
   ]
  },
  {
   "cell_type": "code",
   "execution_count": null,
   "metadata": {
    "collapsed": true
   },
   "outputs": [],
   "source": []
  }
 ],
 "metadata": {
  "kernelspec": {
   "display_name": "Python [conda env:anaconda]",
   "language": "python",
   "name": "conda-env-anaconda-py"
  },
  "language_info": {
   "codemirror_mode": {
    "name": "ipython",
    "version": 3
   },
   "file_extension": ".py",
   "mimetype": "text/x-python",
   "name": "python",
   "nbconvert_exporter": "python",
   "pygments_lexer": "ipython3",
   "version": "3.5.5"
  }
 },
 "nbformat": 4,
 "nbformat_minor": 2
}
