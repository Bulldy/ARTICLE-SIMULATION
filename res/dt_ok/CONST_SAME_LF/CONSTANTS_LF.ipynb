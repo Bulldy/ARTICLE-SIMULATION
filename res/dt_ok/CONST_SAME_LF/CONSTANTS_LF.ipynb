{
 "cells": [
  {
   "cell_type": "code",
   "execution_count": 1,
   "metadata": {},
   "outputs": [
    {
     "name": "stderr",
     "output_type": "stream",
     "text": [
      "//anaconda/lib/python3.5/site-packages/statsmodels/compat/pandas.py:56: FutureWarning: The pandas.core.datetools module is deprecated and will be removed in a future version. Please use the pandas.tseries module instead.\n",
      "  from pandas.core import datetools\n"
     ]
    }
   ],
   "source": [
    "# Import packages to use\n",
    "import numpy as np\n",
    "import pandas as pd\n",
    "import matplotlib as mpl\n",
    "import matplotlib.pyplot as plt\n",
    "import statsmodels.api as sm\n",
    "import os\n",
    "import glob\n",
    "import re\n",
    "mpl.rcParams['mathtext.fontset'] = 'cm'\n",
    "mpl.rcParams.update({'errorbar.capsize': 2})"
   ]
  },
  {
   "cell_type": "code",
   "execution_count": 78,
   "metadata": {},
   "outputs": [],
   "source": [
    "# Create data frame to store data from lf=0.5\n",
    "data05=pd.DataFrame({'beta': [],'const_mean': [],'const_std': []})\n",
    "\n",
    "# Check every .csv file in the folder\n",
    "for filename in glob.glob('../BARRAS-ERROR-N100-LF0.5/*.csv'):\n",
    "    # Import specific file\n",
    "    df=pd.read_csv(filename, engine='python')\n",
    "    \n",
    "    # Get mean coefficient, deviation and beta from the file \n",
    "    mui=df['const'].mean()\n",
    "    si=df['const'].std()\n",
    "    bi=float(re.findall(\"[-+]?\\d*\\.\\d+|\\d+\",filename)[3])\n",
    "    \n",
    "    # Create auxiliar data frame with extracted data\n",
    "    aux=pd.DataFrame({'beta': [bi],'const_mean': [mui],'const_std': [si]})\n",
    "    \n",
    "    # Append auxiliar data frame to original data\n",
    "    data05=data05.append(aux,ignore_index=True,sort=True)"
   ]
  },
  {
   "cell_type": "code",
   "execution_count": 79,
   "metadata": {},
   "outputs": [],
   "source": [
    "# Create data frame to store data from lf=1.0\n",
    "data1=pd.DataFrame({'beta': [],'const_mean': [],'const_std': []})\n",
    "\n",
    "# Check every .csv file in the folder\n",
    "for filename in glob.glob('../BARRAS-ERROR-N100-LF1.0/*.csv'):\n",
    "    # Import specific file\n",
    "    df=pd.read_csv(filename, engine='python')\n",
    "    \n",
    "    # Get mean constant, deviation and beta from the file \n",
    "    mui=df['const'].mean()\n",
    "    si=df['const'].std()\n",
    "    bi=float(re.findall(\"[-+]?\\d*\\.\\d+|\\d+\",filename)[3])\n",
    "    \n",
    "    if(bi==0.1 or bi==0.5 or bi==1.0 or bi==1.5 or bi==2.0):\n",
    "        # Create auxiliar data frame with extracted data\n",
    "        aux=pd.DataFrame({'beta': [bi],'const_mean': [mui],'const_std': [si]})\n",
    "    \n",
    "        # Append auxiliar data frame to original data\n",
    "        data1=data1.append(aux,ignore_index=True,sort=True)"
   ]
  },
  {
   "cell_type": "code",
   "execution_count": 82,
   "metadata": {},
   "outputs": [
    {
     "name": "stdout",
     "output_type": "stream",
     "text": [
      "   beta  const_mean  const_std\n",
      "0   0.1   -0.804699   0.020794\n",
      "1   0.5    0.320590   0.021632\n",
      "2   1.0    1.157683   0.016888\n",
      "3   1.5    1.891105   0.023823\n",
      "4   2.0    2.489727   0.009920\n",
      "   beta  const_mean  const_std\n",
      "0   0.1   -0.804699   0.020794\n",
      "1   0.5    0.320590   0.021632\n",
      "2   1.0    1.157683   0.016888\n",
      "3   1.5    1.891105   0.023823\n",
      "4   2.0    2.489727   0.009920\n"
     ]
    }
   ],
   "source": [
    "# Reorganize the data in order to cast the dataframes for substraction\n",
    "print(data1)\n",
    "data1=data1.sort_values(by=['beta'])\n",
    "data1=data1.reset_index(drop=True)\n",
    "print(data1)"
   ]
  },
  {
   "cell_type": "code",
   "execution_count": 83,
   "metadata": {},
   "outputs": [
    {
     "name": "stdout",
     "output_type": "stream",
     "text": [
      "   beta  const_mean  const_std\n",
      "0   0.1   -0.826803   0.022462\n",
      "1   0.5    0.281036   0.051980\n",
      "3   1.0    1.246879   0.023338\n",
      "2   1.5    2.073332   0.018926\n",
      "4   2.0    2.753085   0.015878\n",
      "   beta  const_mean  const_std\n",
      "0   0.1   -0.826803   0.022462\n",
      "1   0.5    0.281036   0.051980\n",
      "2   1.0    1.246879   0.023338\n",
      "3   1.5    2.073332   0.018926\n",
      "4   2.0    2.753085   0.015878\n"
     ]
    }
   ],
   "source": [
    "# Reorganize the data in order to cast the dataframes for substraction\n",
    "print(data05)\n",
    "data05=data05.sort_values(by=['beta'])\n",
    "data05=data05.reset_index(drop=True)\n",
    "print(data05)"
   ]
  },
  {
   "cell_type": "code",
   "execution_count": 98,
   "metadata": {},
   "outputs": [
    {
     "data": {
      "image/png": "[encoded data removed]",
      "text/plain": [
       "<Figure size 864x432 with 1 Axes>"
      ]
     },
     "metadata": {},
     "output_type": "display_data"
    }
   ],
   "source": [
    "plt.figure(figsize=(12,6))\n",
    "\n",
    "plt.errorbar(data05['beta'],data05['const_mean']-data1['const_mean'],\n",
    "             np.sqrt(np.square(data05.const_std)+np.square(data1.const_std)),\n",
    "             fmt='o',markersize=4,label='Results',c='blue')\n",
    "\n",
    "plt.axhline(np.log(2.0),label=r'$\\log\\left(\\frac{\\theta_{f2}}{\\theta_{f1}}\\right)=\\log\\left(\\frac{1.0}{0.5}\\right)=\\log(2)$',\n",
    "            linestyle='--',color='red')\n",
    "\n",
    "plt.xlabel(r'$\\beta$',fontsize=30)\n",
    "plt.ylabel(r'$C_{0.5}-C_{1.0}$',fontsize=30)\n",
    "\n",
    "plt.grid(zorder=3)\n",
    "plt.legend(fontsize=22)\n",
    "plt.show()\n",
    "plt.close()"
   ]
  },
  {
   "cell_type": "code",
   "execution_count": null,
   "metadata": {
    "collapsed": true
   },
   "outputs": [],
   "source": []
  }
 ],
 "metadata": {
  "kernelspec": {
   "display_name": "Python [conda env:anaconda]",
   "language": "python",
   "name": "conda-env-anaconda-py"
  },
  "language_info": {
   "codemirror_mode": {
    "name": "ipython",
    "version": 3
   },
   "file_extension": ".py",
   "mimetype": "text/x-python",
   "name": "python",
   "nbconvert_exporter": "python",
   "pygments_lexer": "ipython3",
   "version": "3.5.5"
  }
 },
 "nbformat": 4,
 "nbformat_minor": 2
}
